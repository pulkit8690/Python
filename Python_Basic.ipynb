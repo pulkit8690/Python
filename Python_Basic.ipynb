{
  "nbformat": 4,
  "nbformat_minor": 0,
  "metadata": {
    "colab": {
      "provenance": [],
      "authorship_tag": "ABX9TyPPKIEzGdCF5oWayBrC7fmD",
      "include_colab_link": true
    },
    "kernelspec": {
      "name": "python3",
      "display_name": "Python 3"
    },
    "language_info": {
      "name": "python"
    }
  },
  "cells": [
    {
      "cell_type": "markdown",
      "metadata": {
        "id": "view-in-github",
        "colab_type": "text"
      },
      "source": [
        "<a href=\"https://colab.research.google.com/github/pulkit8690/Python/blob/main/Python_Basic.ipynb\" target=\"_parent\"><img src=\"https://colab.research.google.com/assets/colab-badge.svg\" alt=\"Open In Colab\"/></a>"
      ]
    },
    {
      "cell_type": "code",
      "execution_count": null,
      "metadata": {
        "colab": {
          "base_uri": "https://localhost:8080/"
        },
        "id": "d3eNUjV6SBRO",
        "outputId": "c9c89cfb-ff6f-4a6d-9790-83373efb72bc"
      },
      "outputs": [
        {
          "output_type": "stream",
          "name": "stdout",
          "text": [
            "Python\n"
          ]
        }
      ],
      "source": [
        "print(\"Python\")"
      ]
    },
    {
      "cell_type": "code",
      "source": [
        "a=\"Pulkit\"\n",
        "b=\" Arora\"\n",
        "c=a+b\n",
        "print(c)"
      ],
      "metadata": {
        "colab": {
          "base_uri": "https://localhost:8080/"
        },
        "id": "Kr3MmorZK9ve",
        "outputId": "747df8c6-95ae-467b-a894-4cec72a9ebc3"
      },
      "execution_count": null,
      "outputs": [
        {
          "output_type": "stream",
          "name": "stdout",
          "text": [
            "Pulkit Arora\n"
          ]
        }
      ]
    },
    {
      "cell_type": "code",
      "source": [
        "a=\"Pulkit\"\n",
        "b=12 \n",
        "c=a+str(b)\n",
        "print(c)"
      ],
      "metadata": {
        "colab": {
          "base_uri": "https://localhost:8080/"
        },
        "id": "ZbwnNl_5LMA2",
        "outputId": "f28d7865-bf66-4476-ee3c-d424b3633b6f"
      },
      "execution_count": null,
      "outputs": [
        {
          "output_type": "stream",
          "name": "stdout",
          "text": [
            "Pulkit12\n"
          ]
        }
      ]
    },
    {
      "cell_type": "code",
      "source": [
        "a=2\n",
        "b=3\n",
        "c=a+b\n",
        "print(c)\n"
      ],
      "metadata": {
        "colab": {
          "base_uri": "https://localhost:8080/"
        },
        "id": "Nq_DpK_CL_Mf",
        "outputId": "75cb6e25-8315-471e-9fbb-128ed747c673"
      },
      "execution_count": null,
      "outputs": [
        {
          "output_type": "stream",
          "name": "stdout",
          "text": [
            "5\n"
          ]
        }
      ]
    },
    {
      "cell_type": "code",
      "source": [
        "a=input(\"Enter Your Name: \")\n",
        "print(\"Your name is \",a)"
      ],
      "metadata": {
        "colab": {
          "base_uri": "https://localhost:8080/"
        },
        "id": "GWnggTpdModC",
        "outputId": "d839e199-ef37-4eb4-dd7f-80af83ab8ced"
      },
      "execution_count": null,
      "outputs": [
        {
          "output_type": "stream",
          "name": "stdout",
          "text": [
            "Enter Your Name: Pulkit \n",
            "Your name is  Pulkit \n"
          ]
        }
      ]
    },
    {
      "cell_type": "code",
      "source": [
        "def sum(n) :\n",
        "  s=0\n",
        "  for i in range(1,n):\n",
        "    s=s+i\n",
        "  return s\n",
        "sum(10)"
      ],
      "metadata": {
        "colab": {
          "base_uri": "https://localhost:8080/"
        },
        "id": "-lAlWXZ8NWsh",
        "outputId": "cb0a6d60-c492-4d81-b229-4d4dca013045"
      },
      "execution_count": null,
      "outputs": [
        {
          "output_type": "execute_result",
          "data": {
            "text/plain": [
              "45"
            ]
          },
          "metadata": {},
          "execution_count": 8
        }
      ]
    },
    {
      "cell_type": "code",
      "source": [
        "def prime(n):\n",
        "  for i in range(2,n//2+1):\n",
        "    if (n%i==0):\n",
        "      return 1 #not prime\n",
        "    return 0 #Prime\n",
        "prime(23)"
      ],
      "metadata": {
        "colab": {
          "base_uri": "https://localhost:8080/"
        },
        "id": "q05OmIstOnGd",
        "outputId": "72831b8b-8d7b-45e4-ed7c-508ba3362ae1"
      },
      "execution_count": null,
      "outputs": [
        {
          "output_type": "execute_result",
          "data": {
            "text/plain": [
              "0"
            ]
          },
          "metadata": {},
          "execution_count": 12
        }
      ]
    },
    {
      "cell_type": "code",
      "source": [
        "def check(a,b):\n",
        "  if(a>b):\n",
        "    print(a,\" is Greator\")\n",
        "  else:\n",
        "    print(b,\" is Greator\")\n",
        "check(3,2)"
      ],
      "metadata": {
        "colab": {
          "base_uri": "https://localhost:8080/"
        },
        "id": "kFlPg0MtQ-v9",
        "outputId": "7b8c7e75-16d0-4376-99e6-c65c7b85662d"
      },
      "execution_count": null,
      "outputs": [
        {
          "output_type": "stream",
          "name": "stdout",
          "text": [
            "3  is Greator\n"
          ]
        }
      ]
    },
    {
      "cell_type": "code",
      "source": [
        "import math as m\n",
        "print(m.cos(30))\n",
        "print(m.sin(30))\n",
        "print(m.tan(30))\n",
        "print(m.sqrt(25))\n",
        "print(m.log(100,10))\n",
        "print(m.log10(100))"
      ],
      "metadata": {
        "colab": {
          "base_uri": "https://localhost:8080/"
        },
        "id": "6WGHi_tqTkY4",
        "outputId": "557bb12a-fa47-45a0-9720-ed1f9c4bb35b"
      },
      "execution_count": null,
      "outputs": [
        {
          "output_type": "stream",
          "name": "stdout",
          "text": [
            "0.15425144988758405\n",
            "-0.9880316240928618\n",
            "-6.405331196646276\n",
            "5.0\n",
            "2.0\n",
            "2.0\n"
          ]
        }
      ]
    },
    {
      "cell_type": "code",
      "source": [
        "s=\"Pulkit, Arora   \"\n",
        "print(len(s))\n",
        "print(s.strip())\n",
        "print(len(s.strip()))\n",
        "print(s.split())\n",
        "print(s.split(' '))\n",
        "print(s.split(','))"
      ],
      "metadata": {
        "colab": {
          "base_uri": "https://localhost:8080/"
        },
        "id": "7wfsOy0LmKK0",
        "outputId": "dff19ae7-6391-4344-f873-b2672619148e"
      },
      "execution_count": null,
      "outputs": [
        {
          "output_type": "stream",
          "name": "stdout",
          "text": [
            "16\n",
            "Pulkit, Arora\n",
            "13\n",
            "['Pulkit,', 'Arora']\n",
            "['Pulkit,', 'Arora', '', '', '']\n",
            "['Pulkit', ' Arora   ']\n"
          ]
        }
      ]
    },
    {
      "cell_type": "code",
      "source": [
        "var =\" Indian,   Army    \"\n",
        "\n",
        "print(\"String    --> \", var)\n",
        "# print(\"Length    --> \", len(var))\n",
        "print(\"var split --> \", var.split())\n",
        "print(\"var split --> \", var.split(' '))\n",
        "print(\"var split --> \", var.split(','))"
      ],
      "metadata": {
        "colab": {
          "base_uri": "https://localhost:8080/"
        },
        "id": "0oamkGeGrWtp",
        "outputId": "794015af-138b-4104-d435-ef33dcbbd3a3"
      },
      "execution_count": null,
      "outputs": [
        {
          "output_type": "stream",
          "name": "stdout",
          "text": [
            "String    -->   Indian,   Army    \n",
            "var split -->  ['Indian,', 'Army']\n",
            "var split -->  ['', 'Indian,', '', '', 'Army', '', '', '', '']\n",
            "var split -->  [' Indian', '   Army    ']\n"
          ]
        }
      ]
    }
  ]
}